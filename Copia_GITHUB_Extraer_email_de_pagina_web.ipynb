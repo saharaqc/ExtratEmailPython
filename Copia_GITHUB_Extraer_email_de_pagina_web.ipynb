{
  "nbformat": 4,
  "nbformat_minor": 0,
  "metadata": {
    "colab": {
      "provenance": [],
      "authorship_tag": "ABX9TyMvDbkV2dK4wip1d5o7awRa",
      "include_colab_link": true
    },
    "kernelspec": {
      "name": "python3",
      "display_name": "Python 3"
    },
    "language_info": {
      "name": "python"
    }
  },
  "cells": [
    {
      "cell_type": "markdown",
      "metadata": {
        "id": "view-in-github",
        "colab_type": "text"
      },
      "source": [
        "<a href=\"https://colab.research.google.com/github/saharaqc/ExtratEmailPython/blob/main/Copia_GITHUB_Extraer_email_de_pagina_web.ipynb\" target=\"_parent\"><img src=\"https://colab.research.google.com/assets/colab-badge.svg\" alt=\"Open In Colab\"/></a>"
      ]
    },
    {
      "cell_type": "markdown",
      "source": [
        "# Automatización de búsqueda de sitios web y correos electrónicos con Python"
      ],
      "metadata": {
        "id": "LPYqIbPgQbbI"
      }
    },
    {
      "cell_type": "markdown",
      "source": [
        "## Instalar las librerías necesarias"
      ],
      "metadata": {
        "id": "66U-fPJOQIRh"
      }
    },
    {
      "cell_type": "code",
      "source": [
        "#!pip install pandas openpyxl googlesearch-python beautifulsoup4 requests\n",
        "\n",
        "#!pip install googlesearch-python\n"
      ],
      "metadata": {
        "id": "46DMdmIHjC0r",
        "collapsed": true
      },
      "execution_count": null,
      "outputs": []
    },
    {
      "cell_type": "code",
      "execution_count": null,
      "metadata": {
        "id": "B3qfsfcSbzH2"
      },
      "outputs": [],
      "source": [
        "import pandas as pd\n",
        "import requests\n",
        "import re\n",
        "\n",
        "# Función para buscar un sitio web usando la API de Google Custom Search\n",
        "def search_website_api(query, api_key, cx):\n",
        "    \"\"\"\n",
        "    Busca el sitio web de una empresa utilizando Google Custom Search API.\n",
        "    Devuelve el enlace más relevante entre los primeros 10 resultados.\n",
        "    \"\"\"\n",
        "    try:\n",
        "        # Buscar con un máximo de 10 resultados\n",
        "        url = f\"https://www.googleapis.com/customsearch/v1?q={query}+&inurl:contact&key={api_key}&cx={cx}&num=10\"\n",
        "        response = requests.get(url)\n",
        "        if response.status_code == 200:\n",
        "            results = response.json()\n",
        "            if 'items' in results:\n",
        "                # Filtrar los resultados para encontrar el más relevante\n",
        "                for item in results['items']:\n",
        "                    link = item['link']\n",
        "                    if any(keyword in link for keyword in ['contact', 'inicio', 'about']):\n",
        "                        return link  # Devuelve un enlace relevante\n",
        "                # Si no encuentra coincidencias, devuelve el primero\n",
        "                return results['items'][0]['link']\n",
        "        return None\n",
        "    except Exception as e:\n",
        "        print(f\"Error en la búsqueda del sitio web: {e}\")\n",
        "        return None\n",
        "# Función para extraer el email de las web encontradas\n",
        "def extract_email_from_website(url):\n",
        "    try:\n",
        "        # Verificar si la URL contiene el esquema (http/https)\n",
        "        if not url.startswith('http://') and not url.startswith('https://'):\n",
        "            url = 'http://' + url\n",
        "\n",
        "        urls_to_check = [url, url.rstrip('/') + '/contact']  # Añadir /contact como ruta adicional\n",
        "        for current_url in urls_to_check:\n",
        "            try:\n",
        "                response = requests.get(current_url, timeout=10)\n",
        "                if response.status_code == 200:\n",
        "                    emails = re.findall(r'[a-zA-Z0-9._%+-]+@[a-zA-Z0-9.-]+\\.[a-zA-Z]{2,}', response.text)\n",
        "                    if emails:\n",
        "                        return emails[0]  # Retorna el primer correo encontrado\n",
        "            except Exception as e:\n",
        "                print(f\"Error al acceder a {current_url}: {e}\")\n",
        "        return None  # Si no se encuentra ningún correo, retorna None\n",
        "    except Exception as e:\n",
        "        print(f\"Error al procesar la URL {url}: {e}\")\n",
        "        return None\n",
        "# Función para guardar los resultados en un archivo Excel\n",
        "def save_to_excel(data, filename):\n",
        "    try:\n",
        "        # Guardar los resultados en un archivo Excel\n",
        "        output_df = pd.DataFrame(data, columns=['NOMBRE', 'TIPO', 'WEBSITE', 'EMAIL'])\n",
        "        output_df.to_excel(output_filename, index=False)\n",
        "        print(f\"Resultados guardados en {output_filename}\")\n",
        "    except Exception as e:\n",
        "        print(f\"Error al guardar el archivo Excel: {e}\")\n",
        "\n",
        "# Variables de entrada\n",
        "input_filename = \"Tu fichero.xlsx\"  # Archivo de entrada con una columna llamada 'NOMBRE' y otra llamada 'TIPO\n",
        "output_filename = \"Resultado_Emails.xlsx\" # Archivo de Salida\n",
        "api_key = ''  # API Key de Google Cloud Console\n",
        "cx = ''  # ID del Custom Search Engine\n",
        "\n",
        "data = []\n",
        "\n",
        "# Ejecución del script\n",
        "if __name__ == \"__main__\":\n",
        "    try:\n",
        "        # Leer el archivo de entrada\n",
        "        nombres_df = pd.read_excel(input_filename)\n",
        "\n",
        "        # Asegúrate de que las columnas 'NOMBRE' y 'TIPO' estén presentes\n",
        "        if 'NOMBRE' not in nombres_df.columns or 'TIPO' not in nombres_df.columns:\n",
        "            raise ValueError(\"El archivo de entrada debe contener las columnas 'NOMBRE' y 'TIPO'.\")\n",
        "\n",
        "        # Procesar cada fila del DataFrame\n",
        "        for _, row in nombres_df.iterrows():\n",
        "            name = row['NOMBRE']\n",
        "            tipo = row['TIPO']\n",
        "\n",
        "            # Concatenar TIPO al inicio del NOMBRE\n",
        "            search_query = f\"{tipo} {name}\"\n",
        "            print(f\"Procesando búsqueda: {search_query}\")\n",
        "\n",
        "            # Buscar el sitio web y correo electrónico\n",
        "            website = search_website_api(search_query, api_key, cx)\n",
        "            email = extract_email_from_website(website) if website else None\n",
        "\n",
        "            # Agregar la fila procesada a los datos\n",
        "            data.append([name, tipo, website, email])\n",
        "          # crear archivo de salida y guardar\n",
        "        save_to_excel(data, output_filename)\n",
        "\n",
        "    except Exception as e:\n",
        "        print(f\"Error en el proceso: {e}\")"
      ]
    },
    {
      "cell_type": "markdown",
      "source": [
        "## Encontrar archivos y ficheros del libro:"
      ],
      "metadata": {
        "id": "s7Q4NK5ECsEI"
      }
    },
    {
      "cell_type": "code",
      "source": [
        "!ls\n"
      ],
      "metadata": {
        "id": "7j9tW2sdjBNC"
      },
      "execution_count": null,
      "outputs": []
    },
    {
      "cell_type": "markdown",
      "source": [
        "## Guardar y descargar el archivo en caso de perdida:"
      ],
      "metadata": {
        "id": "iAPzevvUCytq"
      }
    },
    {
      "cell_type": "code",
      "source": [
        "#from google.colab import files\n",
        "#files.download('Resultado_Emails.xlsx')\n"
      ],
      "metadata": {
        "id": "20c841tjCxr8"
      },
      "execution_count": null,
      "outputs": []
    }
  ]
}